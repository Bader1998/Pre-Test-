{
 "cells": [
  {
   "cell_type": "code",
   "execution_count": 20,
   "metadata": {},
   "outputs": [],
   "source": [
    "from selenium import webdriver"
   ]
  },
  {
   "cell_type": "code",
   "execution_count": 11,
   "metadata": {},
   "outputs": [],
   "source": [
    "driver = webdriver.Chrome(\"C:/Users/alluser/Downloads/DataBadrul/chromedriver/chromedriver_win32/chromedriver.exe\")\n",
    "\n",
    "driver.get(\"https://www.bukalapak.com/\")\n",
    "# login()"
   ]
  },
  {
   "cell_type": "code",
   "execution_count": 2,
   "metadata": {},
   "outputs": [],
   "source": [
    "def register():\n",
    "    driver.find_element_by_link_text(\"Daftar\").click()\n",
    "    driver.find_element_by_class_name(\"bl-text-field__input\").send_keys(\"088977530664\")\n",
    "    driver.find_element_by_class_name(\"mv-24\").click()\n",
    "    driver.find_element_by_xpath(\"/html/body/div[1]/section/div/div[2]/div/div[2]/div/div/div/div/button[1]\").click()"
   ]
  },
  {
   "cell_type": "code",
   "execution_count": 24,
   "metadata": {},
   "outputs": [],
   "source": [
    "def login():\n",
    "    driver.find_element_by_link_text(\"Login\").click()\n",
    "    driver.find_element_by_xpath('//input[@name=\"user_session[username]\"]').send_keys(\"088977530664\")\n",
    "    driver.find_element_by_xpath('//input[@name=\"user_session[password]\"]').send_keys(\"qwertyuiop210398\")\n",
    "    driver.find_element_by_xpath(\"/html/body/main/div/div[2]/div[1]/form/div[5]\").click()\n"
   ]
  },
  {
   "cell_type": "code",
   "execution_count": 26,
   "metadata": {},
   "outputs": [],
   "source": [
    "def search_product():\n",
    "    driver.find_element_by_id(\"v-omnisearch__input\").send_keys(\"smartphone\")\n",
    "    driver.find_element_by_class_name(\"v-omnisearch__submit\").click()"
   ]
  },
  {
   "cell_type": "code",
   "execution_count": 28,
   "metadata": {},
   "outputs": [],
   "source": [
    "def addToCart():\n",
    "    driver.find_element_by_id(\"v-omnisearch__input\").send_keys(\"sarung\")\n",
    "    driver.find_element_by_class_name(\"v-omnisearch__submit\").click()\n",
    "    driver.find_element_by_class_name(\"bl-text bl-text--body-small bl-text--ellipsis__2\").click()"
   ]
  },
  {
   "cell_type": "code",
   "execution_count": null,
   "metadata": {},
   "outputs": [],
   "source": []
  }
 ],
 "metadata": {
  "kernelspec": {
   "display_name": "Python 3",
   "language": "python",
   "name": "python3"
  },
  "language_info": {
   "codemirror_mode": {
    "name": "ipython",
    "version": 3
   },
   "file_extension": ".py",
   "mimetype": "text/x-python",
   "name": "python",
   "nbconvert_exporter": "python",
   "pygments_lexer": "ipython3",
   "version": "3.8.5"
  }
 },
 "nbformat": 4,
 "nbformat_minor": 4
}
