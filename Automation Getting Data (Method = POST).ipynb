{
 "cells": [
  {
   "cell_type": "code",
   "execution_count": 1,
   "metadata": {},
   "outputs": [],
   "source": [
    "import requests"
   ]
  },
  {
   "cell_type": "code",
   "execution_count": 2,
   "metadata": {},
   "outputs": [],
   "source": [
    "def request_end_point(url_request, input_data_default = {'title': 'recommendation', 'body':'motorcycle', 'userId':12} ):\n",
    "    # Penggunaan Request untuk mengirimkan permintaan (request) - POST\n",
    "    input_data = input_data_default\n",
    "    html_dom_post = requests.post(url_request, data = input_data)\n",
    "    return html_dom_post.json()"
   ]
  },
  {
   "cell_type": "code",
   "execution_count": 3,
   "metadata": {},
   "outputs": [],
   "source": [
    "def check_end_point_correct_data_type(request_json):\n",
    "    # Jika Post hanya memberikan satu buah data (dictionary)\n",
    "    if type(request_json) == dict:\n",
    "        request_json = [request_json]\n",
    "        \n",
    "    for json_dict in request_json:\n",
    "        print('Key: userId - Value: ',json_dict['userId'],' == ',type(json_dict['userId']))\n",
    "        print('Key: id - Value: ',json_dict['id'],' == ',type(json_dict['id']))\n",
    "        print('Key: title - Value: ',json_dict['title'],' == ',type(json_dict['title']))\n",
    "        print('Key: body - Value: ',json_dict['body'],' == ',type(json_dict['body']))\n",
    "        print('Hasil Pengecheckan : ',isinstance(json_dict['userId'], int) and isinstance(json_dict['id'], int) and isinstance(json_dict['title'], str) and isinstance(json_dict['body'], str))\n",
    "        print('\\n')"
   ]
  },
  {
   "cell_type": "code",
   "execution_count": 4,
   "metadata": {},
   "outputs": [
    {
     "name": "stdout",
     "output_type": "stream",
     "text": [
      "Key: userId - Value:  12  ==  <class 'str'>\n",
      "Key: id - Value:  101  ==  <class 'int'>\n",
      "Key: title - Value:  recommendation  ==  <class 'str'>\n",
      "Key: body - Value:  motorcycle  ==  <class 'str'>\n",
      "Hasil Pengecheckan :  False\n",
      "\n",
      "\n"
     ]
    }
   ],
   "source": [
    "if __name__ == \"__main__\" :\n",
    "    URL_BASE = 'https://jsonplaceholder.cypress.io/posts'\n",
    "    # Default Post\n",
    "    json_data = request_end_point(URL_BASE)\n",
    "    # Jika ingin input data yang lain (post lain)\n",
    "#     input_data = {'title': 'sunt aut facere repellat provident occaecati excepturi optio reprehenderit', \n",
    "#                   'body':'quia et suscipit\\nsuscipit recusandae consequuntur expedita et cum\\nreprehenderit molestiae ut ut quas totam\\nnostrum rerum est autem sunt rem eveniet architecto', \n",
    "#                   'userId':1}\n",
    "#     json_data = request_end_point(URL_BASE, METHOD_REQ, input_data) \n",
    "    check_end_point_correct_data_type(json_data)"
   ]
  },
  {
   "cell_type": "code",
   "execution_count": null,
   "metadata": {},
   "outputs": [],
   "source": []
  }
 ],
 "metadata": {
  "kernelspec": {
   "display_name": "Python 3",
   "language": "python",
   "name": "python3"
  },
  "language_info": {
   "codemirror_mode": {
    "name": "ipython",
    "version": 3
   },
   "file_extension": ".py",
   "mimetype": "text/x-python",
   "name": "python",
   "nbconvert_exporter": "python",
   "pygments_lexer": "ipython3",
   "version": "3.7.6"
  }
 },
 "nbformat": 4,
 "nbformat_minor": 4
}
