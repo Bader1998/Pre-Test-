{
 "cells": [
  {
   "cell_type": "code",
   "execution_count": 1,
   "metadata": {},
   "outputs": [],
   "source": [
    "import requests"
   ]
  },
  {
   "cell_type": "code",
   "execution_count": 5,
   "metadata": {},
   "outputs": [],
   "source": [
    "def request_end_point(url_request, request_method, input_data_default = {'title': 'recommendation', 'body':'motorcycle', 'userId':12} ):\n",
    "    # Penggunaan Request untuk mengirimkan permintaan (request) - GET\n",
    "    html_dom_get = requests.get(url_request)\n",
    "    return html_dom_get.json()"
   ]
  },
  {
   "cell_type": "code",
   "execution_count": 10,
   "metadata": {},
   "outputs": [],
   "source": [
    "def check_end_point_correct_data_type(request_json):\n",
    "    \n",
    "    # Jika tipe dict berarti data hanya satu, namun jika tidak data lebih dari satu\n",
    "    print('Key: userId - Value: ',json_dict['userId'],' == ',type(json_dict['userId']))\n",
    "    print('Key: id - Value: ',json_dict['id'],' == ',type(json_dict['id']))\n",
    "    print('Key: title - Value: ',json_dict['title'],' == ',type(json_dict['title']))\n",
    "    print('Key: body - Value: ',json_dict['body'],' == ',type(json_dict['body']))\n",
    "    print('Hasil Pengecheckan : ',isinstance(json_dict['userId'], int) and isinstance(json_dict['id'], int) and isinstance(json_dict['title'], str) and isinstance(json_dict['body'], str))"
   ]
  },
  {
   "cell_type": "code",
   "execution_count": 11,
   "metadata": {},
   "outputs": [
    {
     "name": "stdout",
     "output_type": "stream",
     "text": [
      "<class 'list'>\n"
     ]
    }
   ],
   "source": [
    "if __name__ == \"__main__\" :\n",
    "    URL_BASE = 'https://jsonplaceholder.cypress.io/posts'\n",
    "    METHOD_REQ = 'GET'\n",
    "    json_data = request_end_point(URL_BASE, METHOD_REQ)\n",
    "    check_end_point_correct_data_type(json_data)"
   ]
  },
  {
   "cell_type": "code",
   "execution_count": null,
   "metadata": {},
   "outputs": [],
   "source": []
  }
 ],
 "metadata": {
  "kernelspec": {
   "display_name": "Python 3",
   "language": "python",
   "name": "python3"
  },
  "language_info": {
   "codemirror_mode": {
    "name": "ipython",
    "version": 3
   },
   "file_extension": ".py",
   "mimetype": "text/x-python",
   "name": "python",
   "nbconvert_exporter": "python",
   "pygments_lexer": "ipython3",
   "version": "3.7.6"
  }
 },
 "nbformat": 4,
 "nbformat_minor": 4
}
